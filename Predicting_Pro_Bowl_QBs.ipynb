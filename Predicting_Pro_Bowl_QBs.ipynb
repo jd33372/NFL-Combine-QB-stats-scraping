{
 "cells": [
  {
   "cell_type": "markdown",
   "metadata": {},
   "source": [
    "## Predicting Pro Bowl Quarterbacks: \n",
    "\n",
    "Here I merge my combine measureables data with my college statistics data. I then drop the Bench and 3Cone columns as they have a signifigant amount NA values."
   ]
  },
  {
   "cell_type": "code",
   "execution_count": null,
   "metadata": {},
   "outputs": [
    {
     "name": "stdout",
     "output_type": "stream",
     "text": [
      "639\n",
      "Year              0\n",
      "Name              0\n",
      "College           0\n",
      "Position          0\n",
      "Height (in)       0\n",
      "Weight (lbs)      0\n",
      "40YD             80\n",
      "Bench           603\n",
      "Vertical        110\n",
      "Broad Jump      112\n",
      "Shuttle         133\n",
      "3Cone           541\n",
      "BMI               0\n",
      "G                 0\n",
      "Cmp               0\n",
      "Att               0\n",
      "Cmp%              0\n",
      "Yds               0\n",
      "TD                0\n",
      "TD%               0\n",
      "Int               0\n",
      "Int%              0\n",
      "Y/A               0\n",
      "AY/A              0\n",
      "Y/C               0\n",
      "Y/G               0\n",
      "Rate              0\n",
      "Pro Bowl          0\n",
      "All-Pro           0\n",
      "MVP               0\n",
      "dtype: int64\n"
     ]
    }
   ],
   "source": [
    "import pandas as pd\n",
    "import numpy as np\n",
    "from sklearn.model_selection import train_test_split\n",
    "from sklearn.metrics import accuracy_score, classification_report, confusion_matrix, precision_recall_curve\n",
    "from sklearn.ensemble import RandomForestClassifier\n",
    "from imblearn.over_sampling import RandomOverSampler\n",
    "from sklearn.impute import SimpleImputer\n",
    "from sklearn.linear_model import LogisticRegression\n",
    "from sklearn.feature_selection import RFE\n",
    "from sklearn.model_selection import GridSearchCV\n",
    "import matplotlib.pyplot as plt\n",
    "from imblearn.ensemble import BalancedBaggingClassifier\n",
    "from xgboost import XGBClassifier\n",
    "import seaborn as sns\n",
    "\n",
    "\n",
    "qb_college_stats = pd.read_csv('C:/Users/james/OneDrive/Desktop/nfl_qb_college_stats.csv')\n",
    "qb_measureables = pd.read_csv('C:/Users/james/OneDrive/Desktop/nfl_combine_qbs.csv')\n",
    "\n",
    "\n",
    "qb_college_stats['Name'] = qb_college_stats['Name'].astype(str)\n",
    "qb_measureables['Name'] = qb_measureables['Name'].astype(str)\n",
    "\n",
    "qb_master_data = pd.merge(qb_measureables, qb_college_stats, on= 'Name', how='inner')\n",
    "\n",
    "print(len(qb_master_data))\n",
    "print(qb_master_data.isna().sum())\n",
    "\n",
    "qb_master_data = qb_master_data.drop(['Bench', '3Cone'], axis=1)\n",
    "\n",
    "qb_master_data['Pro Bowl'] = qb_master_data['Pro Bowl'].str.strip()\n",
    "\n"
   ]
  },
  {
   "cell_type": "code",
   "execution_count": 2,
   "metadata": {},
   "outputs": [
    {
     "name": "stdout",
     "output_type": "stream",
     "text": [
      "All-Pro\n",
      "No      630\n",
      "Yes       9\n",
      "Name: count, dtype: int64\n",
      "Pro Bowl\n",
      "No     567\n",
      "Yes     72\n",
      "Name: count, dtype: int64\n",
      "MVP\n",
      "No     629\n",
      "Yes     10\n",
      "Name: count, dtype: int64\n",
      "   Year             Name         College Position  Height (in)  Weight (lbs)  \\\n",
      "0  1987  Steve Beuerlein      Notre Dame       QB         74.4           203   \n",
      "1  1987     Cody Carlson          Baylor       QB         75.0           191   \n",
      "2  1987   Shawn Halloran  Boston College       QB         76.3           217   \n",
      "3  1987     Jim Harbaugh        Michigan       QB         74.3           203   \n",
      "4  1987    Don Majkowski        Virginia       QB         73.5           199   \n",
      "\n",
      "   40YD  Vertical  Broad Jump  Shuttle  ...  Int  Int%  Y/A  AY/A   Y/C  \\\n",
      "0  5.10      23.0        93.0     4.63  ...   44   5.2  7.7  5.98  13.8   \n",
      "1  4.82      29.5       111.0     4.45  ...   34   4.8  7.7  6.44  14.8   \n",
      "2  5.14      23.5        94.0     4.53  ...   31   4.3  7.3  6.16  12.6   \n",
      "3   NaN       NaN         NaN      NaN  ...   19   3.3  9.0  8.55  14.2   \n",
      "4  4.83      34.0       116.0     4.13  ...   29   5.0  6.7  5.24  13.6   \n",
      "\n",
      "     Y/G   Rate  Pro Bowl  All-Pro  MVP  \n",
      "0  155.4  120.3       Yes       No   No  \n",
      "1  123.0  122.2        No       No   No  \n",
      "2  116.7  123.7        No       No   No  \n",
      "3  115.9  149.5       Yes       No   No  \n",
      "4  118.2  108.5       Yes       No   No  \n",
      "\n",
      "[5 rows x 28 columns]\n"
     ]
    }
   ],
   "source": [
    "print(qb_master_data['All-Pro'].value_counts())\n",
    "print(qb_master_data['Pro Bowl'].value_counts())\n",
    "print(qb_master_data['MVP'].value_counts())\n",
    "print(qb_master_data.head())"
   ]
  },
  {
   "cell_type": "markdown",
   "metadata": {},
   "source": [
    "## Modeling "
   ]
  },
  {
   "cell_type": "markdown",
   "metadata": {},
   "source": [
    "Here I impute the missing values with median values. "
   ]
  },
  {
   "cell_type": "code",
   "execution_count": null,
   "metadata": {},
   "outputs": [],
   "source": [
    "\n",
    "qb_numeric_data = qb_master_data.select_dtypes(include=['number']).columns\n",
    "\n",
    "median_imputer = SimpleImputer(strategy='median')\n",
    "\n",
    "qb_master_data[qb_numeric_data] = median_imputer.fit_transform(qb_master_data[qb_numeric_data])\n"
   ]
  },
  {
   "cell_type": "markdown",
   "metadata": {},
   "source": [
    "Because the amount of quarterbacks who made the pro bowl is disproportionately less than those who didn't make it. I first stratify the qbs who have made the Pro Bowl."
   ]
  },
  {
   "cell_type": "code",
   "execution_count": null,
   "metadata": {},
   "outputs": [
    {
     "name": "stderr",
     "output_type": "stream",
     "text": [
      "C:\\Users\\james\\AppData\\Local\\Temp\\ipykernel_40260\\30714843.py:10: FutureWarning: Downcasting behavior in `replace` is deprecated and will be removed in a future version. To retain the old behavior, explicitly call `result.infer_objects(copy=False)`. To opt-in to the future behavior, set `pd.set_option('future.no_silent_downcasting', True)`\n",
      "  qb_y = qb_master_data['Pro Bowl'].replace({'Yes': 1, 'No': 0})\n"
     ]
    }
   ],
   "source": [
    "\n",
    "qb_X = qb_master_data.iloc[:, [0] + list(range(4, 24))]\n",
    "\n",
    "qb_y = qb_master_data['Pro Bowl']\n",
    "\n",
    "qb_y = qb_master_data['Pro Bowl'].replace({'Yes': 1, 'No': 0})\n",
    "\n",
    "X_train, X_test, y_train, y_test = train_test_split(qb_X, qb_y, test_size=0.2, random_state=42, stratify=qb_y)\n"
   ]
  },
  {
   "cell_type": "code",
   "execution_count": null,
   "metadata": {},
   "outputs": [
    {
     "name": "stdout",
     "output_type": "stream",
     "text": [
      "Logistic Regression Accuracy: 0.875\n",
      "              precision    recall  f1-score   support\n",
      "\n",
      "           0       0.89      0.98      0.93       114\n",
      "           1       0.00      0.00      0.00        14\n",
      "\n",
      "    accuracy                           0.88       128\n",
      "   macro avg       0.44      0.49      0.47       128\n",
      "weighted avg       0.79      0.88      0.83       128\n",
      "\n"
     ]
    }
   ],
   "source": [
    "\n",
    "model_lg = LogisticRegression(C=0.1, solver='liblinear', max_iter=1000, random_state=42)\n",
    "model_lg.fit(X_train, y_train)\n",
    "\n",
    "y_pred_lg = model_lg.predict(X_test)\n",
    "\n",
    "print(\"Logistic Regression Accuracy:\", accuracy_score(y_test, y_pred_lg))\n",
    "print(classification_report(y_test, y_pred_lg))\n"
   ]
  },
  {
   "cell_type": "markdown",
   "metadata": {},
   "source": [
    "I will set the class weight to balanced to account for the imbalance between Pro Bowl quarterbacks and Non Pro Bowl qbs."
   ]
  },
  {
   "cell_type": "code",
   "execution_count": 6,
   "metadata": {},
   "outputs": [
    {
     "name": "stdout",
     "output_type": "stream",
     "text": [
      "Logistic Regression with Class Weight Accuracy: 0.6484375\n",
      "              precision    recall  f1-score   support\n",
      "\n",
      "           0       0.94      0.65      0.77       114\n",
      "           1       0.18      0.64      0.29        14\n",
      "\n",
      "    accuracy                           0.65       128\n",
      "   macro avg       0.56      0.65      0.53       128\n",
      "weighted avg       0.85      0.65      0.71       128\n",
      "\n",
      "[[74 40]\n",
      " [ 5  9]]\n"
     ]
    }
   ],
   "source": [
    "\n",
    "model_lg.set_params(class_weight='balanced')\n",
    "model_lg.fit(X_train, y_train)\n",
    "y_pred_lg = model_lg.predict(X_test)\n",
    "print(\"Logistic Regression with Class Weight Accuracy:\", accuracy_score(y_test, y_pred_lg))\n",
    "print(classification_report(y_test, y_pred_lg))\n",
    "print(confusion_matrix(y_test, y_pred_lg))\n"
   ]
  },
  {
   "cell_type": "code",
   "execution_count": null,
   "metadata": {},
   "outputs": [
    {
     "name": "stdout",
     "output_type": "stream",
     "text": [
      "RFE Accuracy: 0.65625\n",
      "              precision    recall  f1-score   support\n",
      "\n",
      "           0       0.93      0.67      0.78       114\n",
      "           1       0.17      0.57      0.27        14\n",
      "\n",
      "    accuracy                           0.66       128\n",
      "   macro avg       0.55      0.62      0.52       128\n",
      "weighted avg       0.84      0.66      0.72       128\n",
      "\n",
      "[[76 38]\n",
      " [ 6  8]]\n"
     ]
    }
   ],
   "source": [
    "\n",
    "# Use RFE to select the top features\n",
    "rfe = RFE(estimator=model_lg, n_features_to_select=5)\n",
    "X_train_rfe = rfe.fit_transform(X_train, y_train)\n",
    "X_test_rfe = rfe.transform(X_test)\n",
    "\n",
    "# Train the model on selected features\n",
    "model_lg.fit(X_train_rfe, y_train)\n",
    "\n",
    "# Predict and evaluate\n",
    "y_pred_rfe = model_lg.predict(X_test_rfe)\n",
    "print(\"RFE Accuracy:\", accuracy_score(y_test, y_pred_rfe))\n",
    "print(classification_report(y_test, y_pred_rfe))\n",
    "print(confusion_matrix(y_test, y_pred_rfe))"
   ]
  },
  {
   "cell_type": "markdown",
   "metadata": {},
   "source": [
    "The logistic regression model seems to be over sensitive as there is a high number of false positives. Lets move to random forest to see how that performs"
   ]
  },
  {
   "cell_type": "code",
   "execution_count": 8,
   "metadata": {},
   "outputs": [
    {
     "name": "stdout",
     "output_type": "stream",
     "text": [
      "Accuracy: 0.8984375\n",
      "              precision    recall  f1-score   support\n",
      "\n",
      "           0       0.90      1.00      0.95       114\n",
      "           1       1.00      0.07      0.13        14\n",
      "\n",
      "    accuracy                           0.90       128\n",
      "   macro avg       0.95      0.54      0.54       128\n",
      "weighted avg       0.91      0.90      0.86       128\n",
      "\n",
      "Confusion Matrix:\n",
      "[[114   0]\n",
      " [ 13   1]]\n"
     ]
    }
   ],
   "source": [
    "\n",
    "rf_classifier = RandomForestClassifier(n_estimators=100, random_state=42)\n",
    "rf_classifier.fit(X_train, y_train)\n",
    "y_pred = rf_classifier.predict(X_test)\n",
    "\n",
    "\n",
    "print(\"Accuracy:\", accuracy_score(y_test, y_pred))\n",
    "print(classification_report(y_test, y_pred))\n",
    "\n",
    "print(\"Confusion Matrix:\")\n",
    "print(confusion_matrix(y_test, y_pred))\n",
    "\n",
    "\n"
   ]
  },
  {
   "cell_type": "markdown",
   "metadata": {},
   "source": [
    "Because the class of Pro Bowl quarterbacks is under represented I then oversample this group in hopes of improving my models effectiveness. "
   ]
  },
  {
   "cell_type": "code",
   "execution_count": 31,
   "metadata": {},
   "outputs": [
    {
     "name": "stdout",
     "output_type": "stream",
     "text": [
      "Accuracy after resampling: 0.8984375\n",
      "Classification Report after resampling:\n",
      "              precision    recall  f1-score   support\n",
      "\n",
      "           0       0.92      0.97      0.94       114\n",
      "           1       0.57      0.29      0.38        14\n",
      "\n",
      "    accuracy                           0.90       128\n",
      "   macro avg       0.74      0.63      0.66       128\n",
      "weighted avg       0.88      0.90      0.88       128\n",
      "\n",
      "Confusion Matrix after resampling:\n",
      "[[111   3]\n",
      " [ 10   4]]\n"
     ]
    }
   ],
   "source": [
    "ros = RandomOverSampler(random_state=42, sampling_strategy=0.5)\n",
    "X_resampled, y_resampled = ros.fit_resample(X_train, y_train)\n",
    "rf_classifier.fit(X_resampled, y_resampled)\n",
    "y_pred_resampled = rf_classifier.predict(X_test)\n",
    "\n",
    "\n",
    "print(\"Accuracy after resampling:\", accuracy_score(y_test, y_pred_resampled))\n",
    "\n",
    "print(\"Classification Report after resampling:\")\n",
    "print(classification_report(y_test, y_pred_resampled))\n",
    "\n",
    "\n",
    "print(\"Confusion Matrix after resampling:\")\n",
    "print(confusion_matrix(y_test, y_pred_resampled))"
   ]
  },
  {
   "cell_type": "code",
   "execution_count": null,
   "metadata": {},
   "outputs": [
    {
     "name": "stdout",
     "output_type": "stream",
     "text": [
      "Best Parameters: {'bootstrap': True, 'max_depth': None, 'max_features': 'sqrt', 'min_samples_leaf': 1, 'min_samples_split': 10, 'n_estimators': 100}\n",
      "Best Score: 0.8943460879497429\n"
     ]
    }
   ],
   "source": [
    "# Hyperparameter tuning using GridSearchCV\n",
    "\n",
    "params = {\n",
    "    'n_estimators': [100, 200, 300],\n",
    "    'max_depth': [None, 10, 20, 30],\n",
    "    'min_samples_split': [2, 5, 10],\n",
    "    'min_samples_leaf': [1, 2, 4],\n",
    "    'bootstrap': [True, False],\n",
    "    'max_features': ['sqrt', 'log2', None]\n",
    "}   \n",
    "\n",
    "rf_random_search = GridSearchCV(RandomForestClassifier(),\n",
    "    param_grid=params\n",
    ")\n",
    "\n",
    "rf_random_search.fit(X_train, y_train)\n",
    "best_params = rf_random_search.best_params_\n",
    "best_score = rf_random_search.best_score_\n",
    "print(\"Best Parameters:\", best_params)\n",
    "print(\"Best Score:\", best_score)\n",
    "\n"
   ]
  },
  {
   "cell_type": "code",
   "execution_count": 11,
   "metadata": {},
   "outputs": [
    {
     "name": "stdout",
     "output_type": "stream",
     "text": [
      "Revised Accuracy after resampling: 0.890625\n",
      "              precision    recall  f1-score   support\n",
      "\n",
      "           0       0.90      0.98      0.94       114\n",
      "           1       0.50      0.14      0.22        14\n",
      "\n",
      "    accuracy                           0.89       128\n",
      "   macro avg       0.70      0.56      0.58       128\n",
      "weighted avg       0.86      0.89      0.86       128\n",
      "\n",
      "Revised Confusion Matrix:\n",
      "[[112   2]\n",
      " [ 12   2]]\n"
     ]
    }
   ],
   "source": [
    "revised_rf_classifier = RandomForestClassifier(**best_params, random_state=42)\n",
    "revised_rf_classifier.fit(X_resampled, y_resampled) \n",
    "\n",
    "y_pred_revised = revised_rf_classifier.predict(X_test)\n",
    "\n",
    "print(\"Revised Accuracy after resampling:\", accuracy_score(y_test, y_pred_revised))\n",
    "print(classification_report(y_test, y_pred_revised))\n",
    "print(\"Revised Confusion Matrix:\")\n",
    "print(confusion_matrix(y_test, y_pred_revised))\n",
    "\n"
   ]
  },
  {
   "cell_type": "code",
   "execution_count": null,
   "metadata": {},
   "outputs": [
    {
     "data": {
      "image/png": "[encoded data removed]",
      "text/plain": [
       "<Figure size 1000x600 with 1 Axes>"
      ]
     },
     "metadata": {},
     "output_type": "display_data"
    }
   ],
   "source": [
    "# Visualizing feature importances\n",
    "\n",
    "rf_importances = revised_rf_classifier.feature_importances_\n",
    "\n",
    "plt.figure(figsize=(10, 6))\n",
    "plt.barh(qb_X.columns, rf_importances, color='skyblue')\n",
    "plt.xlabel('Feature Importance')\n",
    "plt.title('Random Forest Feature Importances')\n",
    "plt.show()\n",
    "\n"
   ]
  },
  {
   "cell_type": "markdown",
   "metadata": {},
   "source": [
    "Through oversampling and stratifying the precision and accuracy of the random forest performance is slightly improved. Above is graph of feature importance where we can see that adjusted yards per attempt, and Year stand out as the variables that possess the highest feature importance. I will now implement a Balanced Bagging Classifier."
   ]
  },
  {
   "cell_type": "code",
   "execution_count": null,
   "metadata": {},
   "outputs": [
    {
     "name": "stdout",
     "output_type": "stream",
     "text": [
      "Accuracy: 0.890625\n",
      "              precision    recall  f1-score   support\n",
      "\n",
      "           0       0.91      0.97      0.94       114\n",
      "           1       0.50      0.21      0.30        14\n",
      "\n",
      "    accuracy                           0.89       128\n",
      "   macro avg       0.70      0.59      0.62       128\n",
      "weighted avg       0.87      0.89      0.87       128\n",
      "\n",
      "Confusion Matrix:\n",
      "[[111   3]\n",
      " [ 11   3]]\n"
     ]
    }
   ],
   "source": [
    "\n",
    "base_classifier = RandomForestClassifier(random_state=42)\n",
    "\n",
    "\n",
    "\n",
    "balanced_bagging_classifier = BalancedBaggingClassifier(base_classifier,\n",
    "\t\t\t\t\t\t\t\t\t\t\t\t\t\tsampling_strategy='majority', \n",
    "\t\t\t\t\t\t\t\t\t\t\t\t\t\treplacement=False, \n",
    "\t\t\t\t\t\t\t\t\t\t\t\t\t\trandom_state=42)\n",
    "\n",
    "balanced_bagging_classifier.fit(X_resampled, y_resampled)\n",
    "\n",
    "\n",
    "y_pred = balanced_bagging_classifier.predict(X_test)\n",
    "print(\"Accuracy:\", accuracy_score(y_test, y_pred))\n",
    "print(classification_report(y_test, y_pred))\n",
    "print(\"Confusion Matrix:\")\n",
    "print(confusion_matrix(y_test, y_pred))"
   ]
  },
  {
   "cell_type": "code",
   "execution_count": null,
   "metadata": {},
   "outputs": [
    {
     "name": "stdout",
     "output_type": "stream",
     "text": [
      "Best Parameters: {'max_features': 0.5, 'n_estimators': 10, 'replacement': True, 'sampling_strategy': 'majority'}\n",
      "Best F1-Score: 0.31758790472710824\n"
     ]
    }
   ],
   "source": [
    "\n",
    "\n",
    "param_grid = {\n",
    "    'n_estimators': [10, 50, 100],  \n",
    "    'sampling_strategy': ['majority', 'not minority', 'auto'],  \n",
    "    'replacement': [True, False], \n",
    "    'max_features':  [0.5, 0.75, 1.0],  \n",
    "}\n",
    "\n",
    "# Perform Grid Search\n",
    "grid_search = GridSearchCV(\n",
    "    estimator=balanced_bagging_classifier,\n",
    "    param_grid=param_grid,\n",
    "    scoring='f1', \n",
    "    cv=5,  \n",
    "    n_jobs=-1)\n",
    "\n",
    "grid_search.fit(X_train, y_train)\n",
    "\n",
    "# Print the best parameters and score\n",
    "print(\"Best Parameters:\", grid_search.best_params_)\n",
    "print(\"Best F1-Score:\", grid_search.best_score_)\n",
    "\n",
    "# Evaluate on the test set\n",
    "best_model = grid_search.best_estimator_\n",
    "y_pred = best_model.predict(X_test)"
   ]
  },
  {
   "cell_type": "code",
   "execution_count": 17,
   "metadata": {},
   "outputs": [
    {
     "name": "stdout",
     "output_type": "stream",
     "text": [
      "Revised Accuracy after resampling: 0.8671875\n",
      "              precision    recall  f1-score   support\n",
      "\n",
      "           0       0.89      0.96      0.93       114\n",
      "           1       0.20      0.07      0.11        14\n",
      "\n",
      "    accuracy                           0.87       128\n",
      "   macro avg       0.55      0.52      0.52       128\n",
      "weighted avg       0.82      0.87      0.84       128\n",
      "\n",
      "Revised Confusion Matrix:\n",
      "[[110   4]\n",
      " [ 13   1]]\n"
     ]
    }
   ],
   "source": [
    "balanced_bagging_revised = BalancedBaggingClassifier(**grid_search.best_params_, random_state=42)\n",
    "balanced_bagging_revised.fit(X_resampled, y_resampled)\n",
    "y_pred_revised = balanced_bagging_revised.predict(X_test)\n",
    "\n",
    "\n",
    "print(\"Revised Accuracy after resampling:\", accuracy_score(y_test, y_pred_revised))\n",
    "print(classification_report(y_test, y_pred_revised))\n",
    "\n",
    "print(\"Revised Confusion Matrix:\")\n",
    "print(confusion_matrix(y_test, y_pred_revised))\n"
   ]
  },
  {
   "cell_type": "markdown",
   "metadata": {},
   "source": [
    "Balanced Bagging Classifier after tuning does not perform as well as the Random Forest Model has higher weighted accuracy measures and higher precision when predicting true positives. Now we will implement xgboost to see if it will perform best on our test data."
   ]
  },
  {
   "cell_type": "code",
   "execution_count": null,
   "metadata": {},
   "outputs": [
    {
     "name": "stderr",
     "output_type": "stream",
     "text": [
      "c:\\Users\\james\\anaconda3\\Lib\\site-packages\\xgboost\\training.py:183: UserWarning: [13:24:36] WARNING: C:\\actions-runner\\_work\\xgboost\\xgboost\\src\\learner.cc:738: \n",
      "Parameters: { \"use_label_encoder\" } are not used.\n",
      "\n",
      "  bst.update(dtrain, iteration=i, fobj=obj)\n"
     ]
    },
    {
     "data": {
      "text/html": [
       "<style>#sk-container-id-1 {\n",
       "  /* Definition of color scheme common for light and dark mode */\n",
       "  --sklearn-color-text: black;\n",
       "  --sklearn-color-line: gray;\n",
       "  /* Definition of color scheme for unfitted estimators */\n",
       "  --sklearn-color-unfitted-level-0: #fff5e6;\n",
       "  --sklearn-color-unfitted-level-1: #f6e4d2;\n",
       "  --sklearn-color-unfitted-level-2: #ffe0b3;\n",
       "  --sklearn-color-unfitted-level-3: chocolate;\n",
       "  /* Definition of color scheme for fitted estimators */\n",
       "  --sklearn-color-fitted-level-0: #f0f8ff;\n",
       "  --sklearn-color-fitted-level-1: #d4ebff;\n",
       "  --sklearn-color-fitted-level-2: #b3dbfd;\n",
       "  --sklearn-color-fitted-level-3: cornflowerblue;\n",
       "\n",
       "  /* Specific color for light theme */\n",
       "  --sklearn-color-text-on-default-background: var(--sg-text-color, var(--theme-code-foreground, var(--jp-content-font-color1, black)));\n",
       "  --sklearn-color-background: var(--sg-background-color, var(--theme-background, var(--jp-layout-color0, white)));\n",
       "  --sklearn-color-border-box: var(--sg-text-color, var(--theme-code-foreground, var(--jp-content-font-color1, black)));\n",
       "  --sklearn-color-icon: #696969;\n",
       "\n",
       "  @media (prefers-color-scheme: dark) {\n",
       "    /* Redefinition of color scheme for dark theme */\n",
       "    --sklearn-color-text-on-default-background: var(--sg-text-color, var(--theme-code-foreground, var(--jp-content-font-color1, white)));\n",
       "    --sklearn-color-background: var(--sg-background-color, var(--theme-background, var(--jp-layout-color0, #111)));\n",
       "    --sklearn-color-border-box: var(--sg-text-color, var(--theme-code-foreground, var(--jp-content-font-color1, white)));\n",
       "    --sklearn-color-icon: #878787;\n",
       "  }\n",
       "}\n",
       "\n",
       "#sk-container-id-1 {\n",
       "  color: var(--sklearn-color-text);\n",
       "}\n",
       "\n",
       "#sk-container-id-1 pre {\n",
       "  padding: 0;\n",
       "}\n",
       "\n",
       "#sk-container-id-1 input.sk-hidden--visually {\n",
       "  border: 0;\n",
       "  clip: rect(1px 1px 1px 1px);\n",
       "  clip: rect(1px, 1px, 1px, 1px);\n",
       "  height: 1px;\n",
       "  margin: -1px;\n",
       "  overflow: hidden;\n",
       "  padding: 0;\n",
       "  position: absolute;\n",
       "  width: 1px;\n",
       "}\n",
       "\n",
       "#sk-container-id-1 div.sk-dashed-wrapped {\n",
       "  border: 1px dashed var(--sklearn-color-line);\n",
       "  margin: 0 0.4em 0.5em 0.4em;\n",
       "  box-sizing: border-box;\n",
       "  padding-bottom: 0.4em;\n",
       "  background-color: var(--sklearn-color-background);\n",
       "}\n",
       "\n",
       "#sk-container-id-1 div.sk-container {\n",
       "  /* jupyter's `normalize.less` sets `[hidden] { display: none; }`\n",
       "     but bootstrap.min.css set `[hidden] { display: none !important; }`\n",
       "     so we also need the `!important` here to be able to override the\n",
       "     default hidden behavior on the sphinx rendered scikit-learn.org.\n",
       "     See: https://github.com/scikit-learn/scikit-learn/issues/21755 */\n",
       "  display: inline-block !important;\n",
       "  position: relative;\n",
       "}\n",
       "\n",
       "#sk-container-id-1 div.sk-text-repr-fallback {\n",
       "  display: none;\n",
       "}\n",
       "\n",
       "div.sk-parallel-item,\n",
       "div.sk-serial,\n",
       "div.sk-item {\n",
       "  /* draw centered vertical line to link estimators */\n",
       "  background-image: linear-gradient(var(--sklearn-color-text-on-default-background), var(--sklearn-color-text-on-default-background));\n",
       "  background-size: 2px 100%;\n",
       "  background-repeat: no-repeat;\n",
       "  background-position: center center;\n",
       "}\n",
       "\n",
       "/* Parallel-specific style estimator block */\n",
       "\n",
       "#sk-container-id-1 div.sk-parallel-item::after {\n",
       "  content: \"\";\n",
       "  width: 100%;\n",
       "  border-bottom: 2px solid var(--sklearn-color-text-on-default-background);\n",
       "  flex-grow: 1;\n",
       "}\n",
       "\n",
       "#sk-container-id-1 div.sk-parallel {\n",
       "  display: flex;\n",
       "  align-items: stretch;\n",
       "  justify-content: center;\n",
       "  background-color: var(--sklearn-color-background);\n",
       "  position: relative;\n",
       "}\n",
       "\n",
       "#sk-container-id-1 div.sk-parallel-item {\n",
       "  display: flex;\n",
       "  flex-direction: column;\n",
       "}\n",
       "\n",
       "#sk-container-id-1 div.sk-parallel-item:first-child::after {\n",
       "  align-self: flex-end;\n",
       "  width: 50%;\n",
       "}\n",
       "\n",
       "#sk-container-id-1 div.sk-parallel-item:last-child::after {\n",
       "  align-self: flex-start;\n",
       "  width: 50%;\n",
       "}\n",
       "\n",
       "#sk-container-id-1 div.sk-parallel-item:only-child::after {\n",
       "  width: 0;\n",
       "}\n",
       "\n",
       "/* Serial-specific style estimator block */\n",
       "\n",
       "#sk-container-id-1 div.sk-serial {\n",
       "  display: flex;\n",
       "  flex-direction: column;\n",
       "  align-items: center;\n",
       "  background-color: var(--sklearn-color-background);\n",
       "  padding-right: 1em;\n",
       "  padding-left: 1em;\n",
       "}\n",
       "\n",
       "\n",
       "/* Toggleable style: style used for estimator/Pipeline/ColumnTransformer box that is\n",
       "clickable and can be expanded/collapsed.\n",
       "- Pipeline and ColumnTransformer use this feature and define the default style\n",
       "- Estimators will overwrite some part of the style using the `sk-estimator` class\n",
       "*/\n",
       "\n",
       "/* Pipeline and ColumnTransformer style (default) */\n",
       "\n",
       "#sk-container-id-1 div.sk-toggleable {\n",
       "  /* Default theme specific background. It is overwritten whether we have a\n",
       "  specific estimator or a Pipeline/ColumnTransformer */\n",
       "  background-color: var(--sklearn-color-background);\n",
       "}\n",
       "\n",
       "/* Toggleable label */\n",
       "#sk-container-id-1 label.sk-toggleable__label {\n",
       "  cursor: pointer;\n",
       "  display: block;\n",
       "  width: 100%;\n",
       "  margin-bottom: 0;\n",
       "  padding: 0.5em;\n",
       "  box-sizing: border-box;\n",
       "  text-align: center;\n",
       "}\n",
       "\n",
       "#sk-container-id-1 label.sk-toggleable__label-arrow:before {\n",
       "  /* Arrow on the left of the label */\n",
       "  content: \"▸\";\n",
       "  float: left;\n",
       "  margin-right: 0.25em;\n",
       "  color: var(--sklearn-color-icon);\n",
       "}\n",
       "\n",
       "#sk-container-id-1 label.sk-toggleable__label-arrow:hover:before {\n",
       "  color: var(--sklearn-color-text);\n",
       "}\n",
       "\n",
       "/* Toggleable content - dropdown */\n",
       "\n",
       "#sk-container-id-1 div.sk-toggleable__content {\n",
       "  max-height: 0;\n",
       "  max-width: 0;\n",
       "  overflow: hidden;\n",
       "  text-align: left;\n",
       "  /* unfitted */\n",
       "  background-color: var(--sklearn-color-unfitted-level-0);\n",
       "}\n",
       "\n",
       "#sk-container-id-1 div.sk-toggleable__content.fitted {\n",
       "  /* fitted */\n",
       "  background-color: var(--sklearn-color-fitted-level-0);\n",
       "}\n",
       "\n",
       "#sk-container-id-1 div.sk-toggleable__content pre {\n",
       "  margin: 0.2em;\n",
       "  border-radius: 0.25em;\n",
       "  color: var(--sklearn-color-text);\n",
       "  /* unfitted */\n",
       "  background-color: var(--sklearn-color-unfitted-level-0);\n",
       "}\n",
       "\n",
       "#sk-container-id-1 div.sk-toggleable__content.fitted pre {\n",
       "  /* unfitted */\n",
       "  background-color: var(--sklearn-color-fitted-level-0);\n",
       "}\n",
       "\n",
       "#sk-container-id-1 input.sk-toggleable__control:checked~div.sk-toggleable__content {\n",
       "  /* Expand drop-down */\n",
       "  max-height: 200px;\n",
       "  max-width: 100%;\n",
       "  overflow: auto;\n",
       "}\n",
       "\n",
       "#sk-container-id-1 input.sk-toggleable__control:checked~label.sk-toggleable__label-arrow:before {\n",
       "  content: \"▾\";\n",
       "}\n",
       "\n",
       "/* Pipeline/ColumnTransformer-specific style */\n",
       "\n",
       "#sk-container-id-1 div.sk-label input.sk-toggleable__control:checked~label.sk-toggleable__label {\n",
       "  color: var(--sklearn-color-text);\n",
       "  background-color: var(--sklearn-color-unfitted-level-2);\n",
       "}\n",
       "\n",
       "#sk-container-id-1 div.sk-label.fitted input.sk-toggleable__control:checked~label.sk-toggleable__label {\n",
       "  background-color: var(--sklearn-color-fitted-level-2);\n",
       "}\n",
       "\n",
       "/* Estimator-specific style */\n",
       "\n",
       "/* Colorize estimator box */\n",
       "#sk-container-id-1 div.sk-estimator input.sk-toggleable__control:checked~label.sk-toggleable__label {\n",
       "  /* unfitted */\n",
       "  background-color: var(--sklearn-color-unfitted-level-2);\n",
       "}\n",
       "\n",
       "#sk-container-id-1 div.sk-estimator.fitted input.sk-toggleable__control:checked~label.sk-toggleable__label {\n",
       "  /* fitted */\n",
       "  background-color: var(--sklearn-color-fitted-level-2);\n",
       "}\n",
       "\n",
       "#sk-container-id-1 div.sk-label label.sk-toggleable__label,\n",
       "#sk-container-id-1 div.sk-label label {\n",
       "  /* The background is the default theme color */\n",
       "  color: var(--sklearn-color-text-on-default-background);\n",
       "}\n",
       "\n",
       "/* On hover, darken the color of the background */\n",
       "#sk-container-id-1 div.sk-label:hover label.sk-toggleable__label {\n",
       "  color: var(--sklearn-color-text);\n",
       "  background-color: var(--sklearn-color-unfitted-level-2);\n",
       "}\n",
       "\n",
       "/* Label box, darken color on hover, fitted */\n",
       "#sk-container-id-1 div.sk-label.fitted:hover label.sk-toggleable__label.fitted {\n",
       "  color: var(--sklearn-color-text);\n",
       "  background-color: var(--sklearn-color-fitted-level-2);\n",
       "}\n",
       "\n",
       "/* Estimator label */\n",
       "\n",
       "#sk-container-id-1 div.sk-label label {\n",
       "  font-family: monospace;\n",
       "  font-weight: bold;\n",
       "  display: inline-block;\n",
       "  line-height: 1.2em;\n",
       "}\n",
       "\n",
       "#sk-container-id-1 div.sk-label-container {\n",
       "  text-align: center;\n",
       "}\n",
       "\n",
       "/* Estimator-specific */\n",
       "#sk-container-id-1 div.sk-estimator {\n",
       "  font-family: monospace;\n",
       "  border: 1px dotted var(--sklearn-color-border-box);\n",
       "  border-radius: 0.25em;\n",
       "  box-sizing: border-box;\n",
       "  margin-bottom: 0.5em;\n",
       "  /* unfitted */\n",
       "  background-color: var(--sklearn-color-unfitted-level-0);\n",
       "}\n",
       "\n",
       "#sk-container-id-1 div.sk-estimator.fitted {\n",
       "  /* fitted */\n",
       "  background-color: var(--sklearn-color-fitted-level-0);\n",
       "}\n",
       "\n",
       "/* on hover */\n",
       "#sk-container-id-1 div.sk-estimator:hover {\n",
       "  /* unfitted */\n",
       "  background-color: var(--sklearn-color-unfitted-level-2);\n",
       "}\n",
       "\n",
       "#sk-container-id-1 div.sk-estimator.fitted:hover {\n",
       "  /* fitted */\n",
       "  background-color: var(--sklearn-color-fitted-level-2);\n",
       "}\n",
       "\n",
       "/* Specification for estimator info (e.g. \"i\" and \"?\") */\n",
       "\n",
       "/* Common style for \"i\" and \"?\" */\n",
       "\n",
       ".sk-estimator-doc-link,\n",
       "a:link.sk-estimator-doc-link,\n",
       "a:visited.sk-estimator-doc-link {\n",
       "  float: right;\n",
       "  font-size: smaller;\n",
       "  line-height: 1em;\n",
       "  font-family: monospace;\n",
       "  background-color: var(--sklearn-color-background);\n",
       "  border-radius: 1em;\n",
       "  height: 1em;\n",
       "  width: 1em;\n",
       "  text-decoration: none !important;\n",
       "  margin-left: 1ex;\n",
       "  /* unfitted */\n",
       "  border: var(--sklearn-color-unfitted-level-1) 1pt solid;\n",
       "  color: var(--sklearn-color-unfitted-level-1);\n",
       "}\n",
       "\n",
       ".sk-estimator-doc-link.fitted,\n",
       "a:link.sk-estimator-doc-link.fitted,\n",
       "a:visited.sk-estimator-doc-link.fitted {\n",
       "  /* fitted */\n",
       "  border: var(--sklearn-color-fitted-level-1) 1pt solid;\n",
       "  color: var(--sklearn-color-fitted-level-1);\n",
       "}\n",
       "\n",
       "/* On hover */\n",
       "div.sk-estimator:hover .sk-estimator-doc-link:hover,\n",
       ".sk-estimator-doc-link:hover,\n",
       "div.sk-label-container:hover .sk-estimator-doc-link:hover,\n",
       ".sk-estimator-doc-link:hover {\n",
       "  /* unfitted */\n",
       "  background-color: var(--sklearn-color-unfitted-level-3);\n",
       "  color: var(--sklearn-color-background);\n",
       "  text-decoration: none;\n",
       "}\n",
       "\n",
       "div.sk-estimator.fitted:hover .sk-estimator-doc-link.fitted:hover,\n",
       ".sk-estimator-doc-link.fitted:hover,\n",
       "div.sk-label-container:hover .sk-estimator-doc-link.fitted:hover,\n",
       ".sk-estimator-doc-link.fitted:hover {\n",
       "  /* fitted */\n",
       "  background-color: var(--sklearn-color-fitted-level-3);\n",
       "  color: var(--sklearn-color-background);\n",
       "  text-decoration: none;\n",
       "}\n",
       "\n",
       "/* Span, style for the box shown on hovering the info icon */\n",
       ".sk-estimator-doc-link span {\n",
       "  display: none;\n",
       "  z-index: 9999;\n",
       "  position: relative;\n",
       "  font-weight: normal;\n",
       "  right: .2ex;\n",
       "  padding: .5ex;\n",
       "  margin: .5ex;\n",
       "  width: min-content;\n",
       "  min-width: 20ex;\n",
       "  max-width: 50ex;\n",
       "  color: var(--sklearn-color-text);\n",
       "  box-shadow: 2pt 2pt 4pt #999;\n",
       "  /* unfitted */\n",
       "  background: var(--sklearn-color-unfitted-level-0);\n",
       "  border: .5pt solid var(--sklearn-color-unfitted-level-3);\n",
       "}\n",
       "\n",
       ".sk-estimator-doc-link.fitted span {\n",
       "  /* fitted */\n",
       "  background: var(--sklearn-color-fitted-level-0);\n",
       "  border: var(--sklearn-color-fitted-level-3);\n",
       "}\n",
       "\n",
       ".sk-estimator-doc-link:hover span {\n",
       "  display: block;\n",
       "}\n",
       "\n",
       "/* \"?\"-specific style due to the `<a>` HTML tag */\n",
       "\n",
       "#sk-container-id-1 a.estimator_doc_link {\n",
       "  float: right;\n",
       "  font-size: 1rem;\n",
       "  line-height: 1em;\n",
       "  font-family: monospace;\n",
       "  background-color: var(--sklearn-color-background);\n",
       "  border-radius: 1rem;\n",
       "  height: 1rem;\n",
       "  width: 1rem;\n",
       "  text-decoration: none;\n",
       "  /* unfitted */\n",
       "  color: var(--sklearn-color-unfitted-level-1);\n",
       "  border: var(--sklearn-color-unfitted-level-1) 1pt solid;\n",
       "}\n",
       "\n",
       "#sk-container-id-1 a.estimator_doc_link.fitted {\n",
       "  /* fitted */\n",
       "  border: var(--sklearn-color-fitted-level-1) 1pt solid;\n",
       "  color: var(--sklearn-color-fitted-level-1);\n",
       "}\n",
       "\n",
       "/* On hover */\n",
       "#sk-container-id-1 a.estimator_doc_link:hover {\n",
       "  /* unfitted */\n",
       "  background-color: var(--sklearn-color-unfitted-level-3);\n",
       "  color: var(--sklearn-color-background);\n",
       "  text-decoration: none;\n",
       "}\n",
       "\n",
       "#sk-container-id-1 a.estimator_doc_link.fitted:hover {\n",
       "  /* fitted */\n",
       "  background-color: var(--sklearn-color-fitted-level-3);\n",
       "}\n",
       "</style><div id=\"sk-container-id-1\" class=\"sk-top-container\"><div class=\"sk-text-repr-fallback\"><pre>XGBClassifier(base_score=None, booster=None, callbacks=None,\n",
       "              colsample_bylevel=None, colsample_bynode=None,\n",
       "              colsample_bytree=None, device=None, early_stopping_rounds=None,\n",
       "              enable_categorical=False, eval_metric=&#x27;logloss&#x27;,\n",
       "              feature_types=None, feature_weights=None, gamma=None,\n",
       "              grow_policy=None, importance_type=None,\n",
       "              interaction_constraints=None, learning_rate=None, max_bin=None,\n",
       "              max_cat_threshold=None, max_cat_to_onehot=None,\n",
       "              max_delta_step=None, max_depth=None, max_leaves=None,\n",
       "              min_child_weight=None, missing=nan, monotone_constraints=None,\n",
       "              multi_strategy=None, n_estimators=None, n_jobs=None,\n",
       "              num_parallel_tree=None, ...)</pre><b>In a Jupyter environment, please rerun this cell to show the HTML representation or trust the notebook. <br />On GitHub, the HTML representation is unable to render, please try loading this page with nbviewer.org.</b></div><div class=\"sk-container\" hidden><div class=\"sk-item\"><div class=\"sk-estimator fitted sk-toggleable\"><input class=\"sk-toggleable__control sk-hidden--visually\" id=\"sk-estimator-id-1\" type=\"checkbox\" checked><label for=\"sk-estimator-id-1\" class=\"sk-toggleable__label fitted sk-toggleable__label-arrow fitted\">&nbsp;&nbsp;XGBClassifier<a class=\"sk-estimator-doc-link fitted\" rel=\"noreferrer\" target=\"_blank\" href=\"https://xgboost.readthedocs.io/en/release_3.0.0/python/python_api.html#xgboost.XGBClassifier\">?<span>Documentation for XGBClassifier</span></a><span class=\"sk-estimator-doc-link fitted\">i<span>Fitted</span></span></label><div class=\"sk-toggleable__content fitted\"><pre>XGBClassifier(base_score=None, booster=None, callbacks=None,\n",
       "              colsample_bylevel=None, colsample_bynode=None,\n",
       "              colsample_bytree=None, device=None, early_stopping_rounds=None,\n",
       "              enable_categorical=False, eval_metric=&#x27;logloss&#x27;,\n",
       "              feature_types=None, feature_weights=None, gamma=None,\n",
       "              grow_policy=None, importance_type=None,\n",
       "              interaction_constraints=None, learning_rate=None, max_bin=None,\n",
       "              max_cat_threshold=None, max_cat_to_onehot=None,\n",
       "              max_delta_step=None, max_depth=None, max_leaves=None,\n",
       "              min_child_weight=None, missing=nan, monotone_constraints=None,\n",
       "              multi_strategy=None, n_estimators=None, n_jobs=None,\n",
       "              num_parallel_tree=None, ...)</pre></div> </div></div></div></div>"
      ],
      "text/plain": [
       "XGBClassifier(base_score=None, booster=None, callbacks=None,\n",
       "              colsample_bylevel=None, colsample_bynode=None,\n",
       "              colsample_bytree=None, device=None, early_stopping_rounds=None,\n",
       "              enable_categorical=False, eval_metric='logloss',\n",
       "              feature_types=None, feature_weights=None, gamma=None,\n",
       "              grow_policy=None, importance_type=None,\n",
       "              interaction_constraints=None, learning_rate=None, max_bin=None,\n",
       "              max_cat_threshold=None, max_cat_to_onehot=None,\n",
       "              max_delta_step=None, max_depth=None, max_leaves=None,\n",
       "              min_child_weight=None, missing=nan, monotone_constraints=None,\n",
       "              multi_strategy=None, n_estimators=None, n_jobs=None,\n",
       "              num_parallel_tree=None, ...)"
      ]
     },
     "execution_count": 18,
     "metadata": {},
     "output_type": "execute_result"
    }
   ],
   "source": [
    "\n",
    "X_train, X_test, y_train, y_test = train_test_split(qb_X, qb_y, test_size=0.2, random_state=42, stratify=qb_y)\n",
    "\n",
    "\n",
    "xgb_mod = XGBClassifier(objective='binary:logistic',\n",
    "                        eval_metric='logloss',\n",
    "                        use_label_encoder=False,\n",
    "                        random_state=42)\n",
    "\n",
    "xgb_mod.fit(X_train, y_train)\n",
    "\n"
   ]
  },
  {
   "cell_type": "code",
   "execution_count": null,
   "metadata": {},
   "outputs": [
    {
     "name": "stdout",
     "output_type": "stream",
     "text": [
      "Accuracy: 0.8828125\n",
      "              precision    recall  f1-score   support\n",
      "\n",
      "           0       0.90      0.97      0.94       114\n",
      "           1       0.40      0.14      0.21        14\n",
      "\n",
      "    accuracy                           0.88       128\n",
      "   macro avg       0.65      0.56      0.57       128\n",
      "weighted avg       0.85      0.88      0.86       128\n",
      "\n",
      "Confusion Matrix:\n",
      "[[111   3]\n",
      " [ 12   2]]\n"
     ]
    }
   ],
   "source": [
    "\n",
    "y_pred_xgb = xgb_mod.predict(X_test)\n",
    "\n",
    "\n",
    "print(\"Accuracy:\", accuracy_score(y_test, y_pred_xgb))\n",
    "print(classification_report(y_test, y_pred_xgb))\n",
    "print(\"Confusion Matrix:\")\n",
    "print(confusion_matrix(y_test, y_pred_xgb))"
   ]
  },
  {
   "cell_type": "code",
   "execution_count": 20,
   "metadata": {},
   "outputs": [
    {
     "name": "stdout",
     "output_type": "stream",
     "text": [
      "Accuracy after resampling: 0.875\n",
      "              precision    recall  f1-score   support\n",
      "\n",
      "           0       0.92      0.94      0.93       114\n",
      "           1       0.42      0.36      0.38        14\n",
      "\n",
      "    accuracy                           0.88       128\n",
      "   macro avg       0.67      0.65      0.66       128\n",
      "weighted avg       0.87      0.88      0.87       128\n",
      "\n",
      "Confusion Matrix:\n",
      "[[107   7]\n",
      " [  9   5]]\n"
     ]
    },
    {
     "name": "stderr",
     "output_type": "stream",
     "text": [
      "c:\\Users\\james\\anaconda3\\Lib\\site-packages\\xgboost\\training.py:183: UserWarning: [13:24:48] WARNING: C:\\actions-runner\\_work\\xgboost\\xgboost\\src\\learner.cc:738: \n",
      "Parameters: { \"use_label_encoder\" } are not used.\n",
      "\n",
      "  bst.update(dtrain, iteration=i, fobj=obj)\n"
     ]
    }
   ],
   "source": [
    "xgb_ros = RandomOverSampler(random_state=42, sampling_strategy=0.5)\n",
    "X_resampled_xgb, y_resampled_xgb = xgb_ros.fit_resample(X_train, y_train)\n",
    "xgb_mod.fit(X_resampled_xgb, y_resampled_xgb)\n",
    "y_pred_resampled = xgb_mod.predict(X_test)\n",
    "\n",
    "y_pred_proba = xgb_mod.predict_proba(X_test)[:, 1]\n",
    "\n",
    "print(\"Accuracy after resampling:\", accuracy_score(y_test, y_pred_resampled))\n",
    "print(classification_report(y_test, y_pred_resampled))\n",
    "print(\"Confusion Matrix:\")\n",
    "print(confusion_matrix(y_test, y_pred_resampled))"
   ]
  },
  {
   "cell_type": "code",
   "execution_count": 21,
   "metadata": {},
   "outputs": [
    {
     "name": "stderr",
     "output_type": "stream",
     "text": [
      "c:\\Users\\james\\anaconda3\\Lib\\site-packages\\xgboost\\training.py:183: UserWarning: [13:25:04] WARNING: C:\\actions-runner\\_work\\xgboost\\xgboost\\src\\learner.cc:738: \n",
      "Parameters: { \"use_label_encoder\" } are not used.\n",
      "\n",
      "  bst.update(dtrain, iteration=i, fobj=obj)\n"
     ]
    }
   ],
   "source": [
    "from sklearn.model_selection import GridSearchCV\n",
    "\n",
    "# Define the parameter grid\n",
    "param_grid = {\n",
    "    'n_estimators': [50, 100, 200],\n",
    "    'max_depth': [3, 5, 7],\n",
    "    'learning_rate': [0.01, 0.1, 0.2],\n",
    "    'subsample': [0.8, 1.0],\n",
    "    'colsample_bytree': [0.8, 1.0],\n",
    "    'scale_pos_weight': [1, len(y_train[y_train == 0]) / len(y_train[y_train == 1])] \n",
    "}\n",
    "\n",
    "# Perform Grid Search\n",
    "grid_search = GridSearchCV(\n",
    "    estimator=XGBClassifier(objective='binary:logistic', eval_metric='logloss', use_label_encoder=False, random_state=42),\n",
    "    param_grid=param_grid,\n",
    "    scoring='roc_auc',\n",
    "    cv=5,\n",
    "    n_jobs=-1\n",
    ")\n",
    "\n",
    "grid_search.fit(X_train, y_train)\n",
    "\n",
    "# Train the best model\n",
    "best_xgb_model = grid_search.best_estimator_"
   ]
  },
  {
   "cell_type": "code",
   "execution_count": 22,
   "metadata": {},
   "outputs": [
    {
     "name": "stdout",
     "output_type": "stream",
     "text": [
      "Best Parameters: {'colsample_bytree': 1.0, 'learning_rate': 0.1, 'max_depth': 3, 'n_estimators': 50, 'scale_pos_weight': 7.810344827586207, 'subsample': 1.0}\n",
      "Best Model Accuracy: 0.7890625\n",
      "              precision    recall  f1-score   support\n",
      "\n",
      "           0       0.92      0.83      0.88       114\n",
      "           1       0.24      0.43      0.31        14\n",
      "\n",
      "    accuracy                           0.79       128\n",
      "   macro avg       0.58      0.63      0.59       128\n",
      "weighted avg       0.85      0.79      0.81       128\n",
      "\n",
      "Confusion Matrix:\n",
      "[[95 19]\n",
      " [ 8  6]]\n"
     ]
    }
   ],
   "source": [
    "print(\"Best Parameters:\", grid_search.best_params_)\n",
    "\n",
    "y_pred_proba_best = best_xgb_model.predict_proba(X_test)\n",
    "y_pred_best = best_xgb_model.predict(X_test)\n",
    "\n",
    "print(\"Best Model Accuracy:\", accuracy_score(y_test, y_pred_best))\n",
    "\n",
    "print(classification_report(y_test, y_pred_best))\n",
    "print(\"Confusion Matrix:\")\n",
    "print(confusion_matrix(y_test, y_pred_best))\n"
   ]
  },
  {
   "cell_type": "markdown",
   "metadata": {},
   "source": [
    "Tuning did not improve the xgboost as presicion on the pro bowl class of qbs is very low. We will now try rfe."
   ]
  },
  {
   "cell_type": "code",
   "execution_count": 23,
   "metadata": {},
   "outputs": [
    {
     "name": "stderr",
     "output_type": "stream",
     "text": [
      "c:\\Users\\james\\anaconda3\\Lib\\site-packages\\xgboost\\training.py:183: UserWarning: [13:25:17] WARNING: C:\\actions-runner\\_work\\xgboost\\xgboost\\src\\learner.cc:738: \n",
      "Parameters: { \"use_label_encoder\" } are not used.\n",
      "\n",
      "  bst.update(dtrain, iteration=i, fobj=obj)\n",
      "c:\\Users\\james\\anaconda3\\Lib\\site-packages\\xgboost\\training.py:183: UserWarning: [13:25:17] WARNING: C:\\actions-runner\\_work\\xgboost\\xgboost\\src\\learner.cc:738: \n",
      "Parameters: { \"use_label_encoder\" } are not used.\n",
      "\n",
      "  bst.update(dtrain, iteration=i, fobj=obj)\n",
      "c:\\Users\\james\\anaconda3\\Lib\\site-packages\\xgboost\\training.py:183: UserWarning: [13:25:17] WARNING: C:\\actions-runner\\_work\\xgboost\\xgboost\\src\\learner.cc:738: \n",
      "Parameters: { \"use_label_encoder\" } are not used.\n",
      "\n",
      "  bst.update(dtrain, iteration=i, fobj=obj)\n",
      "c:\\Users\\james\\anaconda3\\Lib\\site-packages\\xgboost\\training.py:183: UserWarning: [13:25:17] WARNING: C:\\actions-runner\\_work\\xgboost\\xgboost\\src\\learner.cc:738: \n",
      "Parameters: { \"use_label_encoder\" } are not used.\n",
      "\n",
      "  bst.update(dtrain, iteration=i, fobj=obj)\n",
      "c:\\Users\\james\\anaconda3\\Lib\\site-packages\\xgboost\\training.py:183: UserWarning: [13:25:17] WARNING: C:\\actions-runner\\_work\\xgboost\\xgboost\\src\\learner.cc:738: \n",
      "Parameters: { \"use_label_encoder\" } are not used.\n",
      "\n",
      "  bst.update(dtrain, iteration=i, fobj=obj)\n",
      "c:\\Users\\james\\anaconda3\\Lib\\site-packages\\xgboost\\training.py:183: UserWarning: [13:25:17] WARNING: C:\\actions-runner\\_work\\xgboost\\xgboost\\src\\learner.cc:738: \n",
      "Parameters: { \"use_label_encoder\" } are not used.\n",
      "\n",
      "  bst.update(dtrain, iteration=i, fobj=obj)\n",
      "c:\\Users\\james\\anaconda3\\Lib\\site-packages\\xgboost\\training.py:183: UserWarning: [13:25:17] WARNING: C:\\actions-runner\\_work\\xgboost\\xgboost\\src\\learner.cc:738: \n",
      "Parameters: { \"use_label_encoder\" } are not used.\n",
      "\n",
      "  bst.update(dtrain, iteration=i, fobj=obj)\n",
      "c:\\Users\\james\\anaconda3\\Lib\\site-packages\\xgboost\\training.py:183: UserWarning: [13:25:17] WARNING: C:\\actions-runner\\_work\\xgboost\\xgboost\\src\\learner.cc:738: \n",
      "Parameters: { \"use_label_encoder\" } are not used.\n",
      "\n",
      "  bst.update(dtrain, iteration=i, fobj=obj)\n",
      "c:\\Users\\james\\anaconda3\\Lib\\site-packages\\xgboost\\training.py:183: UserWarning: [13:25:18] WARNING: C:\\actions-runner\\_work\\xgboost\\xgboost\\src\\learner.cc:738: \n",
      "Parameters: { \"use_label_encoder\" } are not used.\n",
      "\n",
      "  bst.update(dtrain, iteration=i, fobj=obj)\n",
      "c:\\Users\\james\\anaconda3\\Lib\\site-packages\\xgboost\\training.py:183: UserWarning: [13:25:18] WARNING: C:\\actions-runner\\_work\\xgboost\\xgboost\\src\\learner.cc:738: \n",
      "Parameters: { \"use_label_encoder\" } are not used.\n",
      "\n",
      "  bst.update(dtrain, iteration=i, fobj=obj)\n",
      "c:\\Users\\james\\anaconda3\\Lib\\site-packages\\xgboost\\training.py:183: UserWarning: [13:25:18] WARNING: C:\\actions-runner\\_work\\xgboost\\xgboost\\src\\learner.cc:738: \n",
      "Parameters: { \"use_label_encoder\" } are not used.\n",
      "\n",
      "  bst.update(dtrain, iteration=i, fobj=obj)\n",
      "c:\\Users\\james\\anaconda3\\Lib\\site-packages\\xgboost\\training.py:183: UserWarning: [13:25:18] WARNING: C:\\actions-runner\\_work\\xgboost\\xgboost\\src\\learner.cc:738: \n",
      "Parameters: { \"use_label_encoder\" } are not used.\n",
      "\n",
      "  bst.update(dtrain, iteration=i, fobj=obj)\n",
      "c:\\Users\\james\\anaconda3\\Lib\\site-packages\\xgboost\\training.py:183: UserWarning: [13:25:18] WARNING: C:\\actions-runner\\_work\\xgboost\\xgboost\\src\\learner.cc:738: \n",
      "Parameters: { \"use_label_encoder\" } are not used.\n",
      "\n",
      "  bst.update(dtrain, iteration=i, fobj=obj)\n",
      "c:\\Users\\james\\anaconda3\\Lib\\site-packages\\xgboost\\training.py:183: UserWarning: [13:25:18] WARNING: C:\\actions-runner\\_work\\xgboost\\xgboost\\src\\learner.cc:738: \n",
      "Parameters: { \"use_label_encoder\" } are not used.\n",
      "\n",
      "  bst.update(dtrain, iteration=i, fobj=obj)\n",
      "c:\\Users\\james\\anaconda3\\Lib\\site-packages\\xgboost\\training.py:183: UserWarning: [13:25:18] WARNING: C:\\actions-runner\\_work\\xgboost\\xgboost\\src\\learner.cc:738: \n",
      "Parameters: { \"use_label_encoder\" } are not used.\n",
      "\n",
      "  bst.update(dtrain, iteration=i, fobj=obj)\n",
      "c:\\Users\\james\\anaconda3\\Lib\\site-packages\\xgboost\\training.py:183: UserWarning: [13:25:18] WARNING: C:\\actions-runner\\_work\\xgboost\\xgboost\\src\\learner.cc:738: \n",
      "Parameters: { \"use_label_encoder\" } are not used.\n",
      "\n",
      "  bst.update(dtrain, iteration=i, fobj=obj)\n",
      "c:\\Users\\james\\anaconda3\\Lib\\site-packages\\xgboost\\training.py:183: UserWarning: [13:25:18] WARNING: C:\\actions-runner\\_work\\xgboost\\xgboost\\src\\learner.cc:738: \n",
      "Parameters: { \"use_label_encoder\" } are not used.\n",
      "\n",
      "  bst.update(dtrain, iteration=i, fobj=obj)\n"
     ]
    },
    {
     "name": "stdout",
     "output_type": "stream",
     "text": [
      "Accuracy after RFE: 0.8671875\n",
      "              precision    recall  f1-score   support\n",
      "\n",
      "           0       0.93      0.92      0.93       114\n",
      "           1       0.40      0.43      0.41        14\n",
      "\n",
      "    accuracy                           0.87       128\n",
      "   macro avg       0.66      0.67      0.67       128\n",
      "weighted avg       0.87      0.87      0.87       128\n",
      "\n",
      "Confusion Matrix:\n",
      "[[105   9]\n",
      " [  8   6]]\n"
     ]
    }
   ],
   "source": [
    "from sklearn.feature_selection import RFE\n",
    "\n",
    "rfe = RFE(estimator=xgb_mod, n_features_to_select=5)\n",
    "\n",
    "\n",
    "rfe.fit(X_resampled_xgb, y_resampled_xgb)\n",
    "X_train_rfe = rfe.transform(X_resampled_xgb)\n",
    "X_test_rfe = rfe.transform(X_test)\n",
    "\n",
    "xgb_model_rfe = XGBClassifier(random_state=42)\n",
    "xgb_model_rfe.fit(X_train_rfe, y_resampled_xgb)\n",
    "\n",
    "y_pred_rfe = xgb_model_rfe.predict(X_test_rfe)\n",
    "\n",
    "print(\"Accuracy after RFE:\", accuracy_score(y_test, y_pred_rfe))\n",
    "print(classification_report(y_test, y_pred_rfe))\n",
    "print(\"Confusion Matrix:\")\n",
    "print(confusion_matrix(y_test, y_pred_rfe))\n"
   ]
  },
  {
   "cell_type": "code",
   "execution_count": 24,
   "metadata": {},
   "outputs": [
    {
     "name": "stdout",
     "output_type": "stream",
     "text": [
      "Accuracy after scaling: 0.8671875\n",
      "              precision    recall  f1-score   support\n",
      "\n",
      "           0       0.92      0.93      0.93       114\n",
      "           1       0.38      0.36      0.37        14\n",
      "\n",
      "    accuracy                           0.87       128\n",
      "   macro avg       0.65      0.64      0.65       128\n",
      "weighted avg       0.86      0.87      0.87       128\n",
      "\n",
      "Confusion Matrix:\n",
      "[[106   8]\n",
      " [  9   5]]\n"
     ]
    },
    {
     "name": "stderr",
     "output_type": "stream",
     "text": [
      "c:\\Users\\james\\anaconda3\\Lib\\site-packages\\xgboost\\training.py:183: UserWarning: [13:25:29] WARNING: C:\\actions-runner\\_work\\xgboost\\xgboost\\src\\learner.cc:738: \n",
      "Parameters: { \"use_label_encoder\" } are not used.\n",
      "\n",
      "  bst.update(dtrain, iteration=i, fobj=obj)\n"
     ]
    }
   ],
   "source": [
    "scale_pos_weight = len(y_train[y_train == 0]) / len(y_train[y_train == 1])\n",
    "xgb_model_scaled = xgb_mod.set_params(scale_pos_weight=scale_pos_weight)\n",
    "\n",
    "xgb_model_scaled.fit(X_resampled_xgb, y_resampled_xgb)\n",
    "y_pred_scaled = xgb_model_scaled.predict(X_test)\n",
    "\n",
    "print(\"Accuracy after scaling:\", accuracy_score(y_test, y_pred_scaled))\n",
    "print(classification_report(y_test, y_pred_scaled))\n",
    "print(\"Confusion Matrix:\")\n",
    "print(confusion_matrix(y_test, y_pred_scaled))"
   ]
  },
  {
   "cell_type": "markdown",
   "metadata": {},
   "source": [
    "The scale pos weight parameter slightly lowers the precision of the model on the pro bowl class of qbs. "
   ]
  },
  {
   "cell_type": "markdown",
   "metadata": {},
   "source": [
    "## Peek at Predictions\n",
    "\n",
    "Taking a look at some of the probabilites in the test set we can observe a potential false positive in Brian Brohm."
   ]
  },
  {
   "cell_type": "code",
   "execution_count": 25,
   "metadata": {},
   "outputs": [
    {
     "name": "stdout",
     "output_type": "stream",
     "text": [
      "                Name  Pro Bowl Probability\n",
      "308      Brian Brohm              0.992200\n",
      "154   Peyton Manning              0.987478\n",
      "224    Carson Palmer              0.923305\n",
      "248   Jason Campbell              0.838643\n",
      "585   Tua Tagovailoa              0.828681\n",
      "524   Baker Mayfield              0.687100\n",
      "183  Jarious Jackson              0.643392\n",
      "604       Sam Howell              0.615425\n",
      "518  Quinton Flowers              0.580338\n",
      "575   Justin Herbert              0.578484\n"
     ]
    }
   ],
   "source": [
    "# Add probabilities to the test set\n",
    "\n",
    "X_test['Name'] = qb_master_data.loc[X_test.index, 'Name']\n",
    "\n",
    "X_test['Pro Bowl Probability'] = y_pred_proba\n",
    "\n",
    "print(X_test[['Name', 'Pro Bowl Probability']].sort_values(by='Pro Bowl Probability', ascending=False).head(10))\n",
    "\n",
    "X_test.drop(columns=['Name', 'Pro Bowl Probability'], inplace=True)"
   ]
  },
  {
   "cell_type": "markdown",
   "metadata": {},
   "source": [
    "## Creating Optimal Threshold\n",
    "\n",
    "Because of the imbalanced data the default threshold of 0.5 quarterbacks who are slightly over this default threshold are classified as pro bowlers which is not ideal. A NFL front office is going to want to draft a quarterback that they are hightly confident will make an impact(be a Pro Bowler). By finding an optimal threshold the hope is that we can better classify these quarterbacks. "
   ]
  },
  {
   "cell_type": "code",
   "execution_count": 34,
   "metadata": {},
   "outputs": [
    {
     "name": "stdout",
     "output_type": "stream",
     "text": [
      "Optimal Threshold: 0.9233053922653198\n",
      "Optimal Threshold Accuracy: 0.8984375\n",
      "              precision    recall  f1-score   support\n",
      "\n",
      "           0       0.90      0.99      0.95       114\n",
      "           1       0.67      0.14      0.24        14\n",
      "\n",
      "    accuracy                           0.90       128\n",
      "   macro avg       0.79      0.57      0.59       128\n",
      "weighted avg       0.88      0.90      0.87       128\n",
      "\n",
      "Optimal Threshold Confusion Matrix:\n",
      "[[113   1]\n",
      " [ 12   2]]\n"
     ]
    }
   ],
   "source": [
    "\n",
    "# Calculate precision, recall, and thresholds\n",
    "precision, recall, thresholds = precision_recall_curve(y_test, y_pred_proba)\n",
    "\n",
    "optimal_idx = (precision[:-1] - recall[:-1]).argmax()  \n",
    "\n",
    "optimal_threshold = thresholds[optimal_idx]\n",
    "\n",
    "print(f\"Optimal Threshold: {optimal_threshold}\")\n",
    "\n",
    "# Apply the optimal threshold\n",
    "y_pred_optimal = (y_pred_proba >= optimal_threshold).astype(int)\n",
    "\n",
    "# Evaluate the adjusted predictions\n",
    "print(\"Optimal Threshold Accuracy:\", accuracy_score(y_test, y_pred_optimal))\n",
    "print(classification_report(y_test, y_pred_optimal))\n",
    "\n",
    "print(\"Optimal Threshold Confusion Matrix:\")\n",
    "print(confusion_matrix(y_test, y_pred_optimal))"
   ]
  },
  {
   "cell_type": "markdown",
   "metadata": {},
   "source": [
    "## Predicting Over Entire Dataset"
   ]
  },
  {
   "cell_type": "markdown",
   "metadata": {},
   "source": [
    "Here I use the first iteration of my xgboost model to predict on the entire dataset. I chose this xgboost it had a slightly higher recall then the random forests on the oversampled data. While tuning the xgboost I was able to increase recall but I could not increase precision past 42% which was what the orginal xgboost model got on the oversampled test data. Here I apply the optimal threshold to the probabilities generated from the xgboost.  "
   ]
  },
  {
   "cell_type": "code",
   "execution_count": null,
   "metadata": {},
   "outputs": [
    {
     "name": "stdout",
     "output_type": "stream",
     "text": [
      "              Name Pro Bowl Pro Bowl Prediction\n",
      "0  Steve Beuerlein      Yes                 Yes\n",
      "1     Cody Carlson       No                  No\n",
      "2   Shawn Halloran       No                  No\n",
      "3     Jim Harbaugh      Yes                 Yes\n",
      "4    Don Majkowski      Yes                 Yes\n",
      "5     Chris Miller       No                  No\n",
      "6    Bill Ransdell       No                  No\n",
      "7       Mike Shula       No                  No\n",
      "8   Kelly Stouffer       No                  No\n",
      "9    Kevin Sweeney       No                  No\n"
     ]
    }
   ],
   "source": [
    "probs_full = xgb_mod.predict_proba(qb_X)[:, 1]\n",
    "\n",
    "y_pred_full = (probs_full >= optimal_threshold).astype(int)\n",
    "\n",
    "qb_master_data['Pro Bowl Prediction'] = y_pred_full\n",
    "\n",
    "qb_master_data['Pro Bowl Prediction'] = qb_master_data['Pro Bowl Prediction'].replace({1: 'Yes', 0: 'No'})\n",
    "\n",
    "print(qb_master_data[['Name', 'Pro Bowl', 'Pro Bowl Prediction']].head(10))\n",
    "\n"
   ]
  },
  {
   "cell_type": "markdown",
   "metadata": {},
   "source": [
    "From an intial look we can see that the xgboost model does quite well. Lets see how it performs over the entire dataset. "
   ]
  },
  {
   "cell_type": "code",
   "execution_count": null,
   "metadata": {},
   "outputs": [
    {
     "name": "stdout",
     "output_type": "stream",
     "text": [
      "Accuracy: 0.9780907668231612\n",
      "              precision    recall  f1-score   support\n",
      "\n",
      "          No       0.98      1.00      0.99       567\n",
      "         Yes       0.97      0.83      0.90        72\n",
      "\n",
      "    accuracy                           0.98       639\n",
      "   macro avg       0.97      0.91      0.94       639\n",
      "weighted avg       0.98      0.98      0.98       639\n",
      "\n"
     ]
    },
    {
     "data": {
      "text/plain": [
       "Text(0.5, 1.0, 'Confusion Matrix')"
      ]
     },
     "execution_count": 28,
     "metadata": {},
     "output_type": "execute_result"
    },
    {
     "data": {
      "image/png": "[encoded data removed]",
      "text/plain": [
       "<Figure size 640x480 with 1 Axes>"
      ]
     },
     "metadata": {},
     "output_type": "display_data"
    }
   ],
   "source": [
    "\n",
    "print(\"Accuracy:\", accuracy_score(qb_master_data['Pro Bowl'], qb_master_data['Pro Bowl Prediction']))\n",
    "print(classification_report(qb_master_data['Pro Bowl'], qb_master_data['Pro Bowl Prediction']))\n",
    "\n",
    "final_con_mat = confusion_matrix(qb_master_data['Pro Bowl'], qb_master_data['Pro Bowl Prediction'])\n",
    "\n",
    "\n",
    "sns.heatmap(final_con_mat, cmap='Blues', annot=True, cbar=False, xticklabels=['No', 'Yes'], yticklabels=['No', 'Yes'])\n",
    "plt.xlabel('Predicted')\n",
    "plt.ylabel('Actual')\n",
    "plt.title('Confusion Matrix')"
   ]
  },
  {
   "cell_type": "markdown",
   "metadata": {},
   "source": [
    "As displayed in the confusion matrix above the xgboost model performs exceptional well across the entire data set. With only two false positives, quarterbacks are rarely miss identified as a pro bowler. However there are 12 false negatives where a quarterback is not labeled as a Pro Bowler when they actually are. Lets examine the MVP winning quarterbacks to if any of them are false negatives. "
   ]
  },
  {
   "cell_type": "code",
   "execution_count": 30,
   "metadata": {},
   "outputs": [
    {
     "data": {
      "image/png": "[encoded data removed]",
      "text/plain": [
       "<Figure size 1000x600 with 1 Axes>"
      ]
     },
     "metadata": {},
     "output_type": "display_data"
    }
   ],
   "source": [
    "# Visualizing feature importances\n",
    "import matplotlib.pyplot as plt\n",
    "\n",
    "feature_importances = xgb_mod.feature_importances_\n",
    "\n",
    "plt.figure(figsize=(10, 6))\n",
    "plt.barh(qb_X.columns, feature_importances)\n",
    "plt.xlabel('Feature Importance')\n",
    "plt.title('Feature Importance in XGBoost')\n",
    "plt.show()"
   ]
  },
  {
   "cell_type": "markdown",
   "metadata": {},
   "source": [
    "We can see from this graph that the three features that have the most importance are Year, TDs, and Adjusted Yards per Attempt."
   ]
  },
  {
   "cell_type": "code",
   "execution_count": 29,
   "metadata": {},
   "outputs": [
    {
     "name": "stdout",
     "output_type": "stream",
     "text": [
      "                Name Pro Bowl Pro Bowl Prediction\n",
      "48       Brett Favre      Yes                  No\n",
      "154   Peyton Manning      Yes                 Yes\n",
      "176        Tom Brady      Yes                 Yes\n",
      "193       Drew Brees      Yes                 Yes\n",
      "262    Aaron Rodgers      Yes                 Yes\n",
      "318        Matt Ryan      Yes                 Yes\n",
      "367       Cam Newton      Yes                 Yes\n",
      "496  Patrick Mahomes      Yes                 Yes\n",
      "506       Josh Allen      Yes                  No\n",
      "520    Lamar Jackson      Yes                  No\n"
     ]
    }
   ],
   "source": [
    "mvps = qb_master_data[qb_master_data['MVP'] == 'Yes']\n",
    "\n",
    "print(mvps[['Name', 'Pro Bowl', 'Pro Bowl Prediction']].head(10))"
   ]
  },
  {
   "cell_type": "markdown",
   "metadata": {},
   "source": [
    "Favre, Allen, and Jackson are three of the false positives, showing that while this model's performance is very strong it is not perfect. All of the other MVP's are correctly identified. With the optimal threshold of approxiamately 0.9233 we can see how a higher threshold works better with imbalanced data.  "
   ]
  }
 ],
 "metadata": {
  "kernelspec": {
   "display_name": "base",
   "language": "python",
   "name": "python3"
  },
  "language_info": {
   "codemirror_mode": {
    "name": "ipython",
    "version": 3
   },
   "file_extension": ".py",
   "mimetype": "text/x-python",
   "name": "python",
   "nbconvert_exporter": "python",
   "pygments_lexer": "ipython3",
   "version": "3.12.4"
  }
 },
 "nbformat": 4,
 "nbformat_minor": 2
}
